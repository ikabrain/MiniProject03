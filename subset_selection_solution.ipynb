{
  "nbformat": 4,
  "nbformat_minor": 0,
  "metadata": {
    "colab": {
      "provenance": [],
      "authorship_tag": "ABX9TyOlTbts5R2M+l80wz4cZcDL",
      "include_colab_link": true
    },
    "kernelspec": {
      "name": "python3",
      "display_name": "Python 3"
    },
    "language_info": {
      "name": "python"
    }
  },
  "cells": [
    {
      "cell_type": "markdown",
      "metadata": {
        "id": "view-in-github",
        "colab_type": "text"
      },
      "source": [
        "<a href=\"https://colab.research.google.com/github/ikabrain/MiniProject03/blob/main/subset_selection_solution.ipynb\" target=\"_parent\"><img src=\"https://colab.research.google.com/assets/colab-badge.svg\" alt=\"Open In Colab\"/></a>"
      ]
    },
    {
      "cell_type": "markdown",
      "source": [
        "# Subset Selection Problem"
      ],
      "metadata": {
        "id": "4nBU-1A5t2Qd"
      }
    },
    {
      "cell_type": "markdown",
      "source": [
        "---\n",
        "### **1. Problem Statement:**\n",
        "---\n",
        "- Find all the subsets from a set of numbers whose sum is zero.\n",
        "- **Constraint:** Subset size must be 5\n",
        "- Set = {-12, -3, -6, 7, 2, -2, 6, 3, 9, -7, -5, -8, 1, 11, -9, -4}"
      ],
      "metadata": {
        "id": "Snux2Ly3yGew"
      }
    },
    {
      "cell_type": "code",
      "source": [
        "import random\n",
        "import time\n",
        "\n",
        "S = {-12, -3, -6, 7, 2, -2, 6, 3, 9, -7, -5, -8, 1, 11, -9, -4}\n",
        "k = 5\n",
        "max_iter = 10**3\n",
        "ans = set() # Prevents repeating subsets\n",
        "\n",
        "st = time.time()\n",
        "for _ in range(max_iter):\n",
        "    subset = tuple(sorted(random.sample(sorted(S), k)))\n",
        "    if sum(subset) == 0:\n",
        "        ans.add(subset)\n",
        "et = time.time()\n",
        "\n",
        "print(\"Number of subsets identified =\", len(ans))\n",
        "print(f\"Time taken to identify = {et-st:.3f} sec\")\n",
        "print()\n",
        "for subset in ans:\n",
        "    print(subset)"
      ],
      "metadata": {
        "colab": {
          "base_uri": "https://localhost:8080/"
        },
        "id": "1VbYSOleyK8j",
        "outputId": "3cd7b451-0b4f-4f43-a067-9017ac41cbf1"
      },
      "execution_count": 11,
      "outputs": [
        {
          "output_type": "stream",
          "name": "stdout",
          "text": [
            "Number of subsets identified = 26\n",
            "Time taken to identify = 0.004 sec\n",
            "\n",
            "(-12, -6, -2, 9, 11)\n",
            "(-7, -4, -3, 3, 11)\n",
            "(-5, -4, 1, 2, 6)\n",
            "(-7, -3, 1, 3, 6)\n",
            "(-7, -4, 2, 3, 6)\n",
            "(-6, -4, -3, 6, 7)\n",
            "(-8, -6, 1, 6, 7)\n",
            "(-9, -7, -4, 9, 11)\n",
            "(-9, -2, 2, 3, 6)\n",
            "(-8, -6, -2, 7, 9)\n",
            "(-9, -3, 1, 2, 9)\n",
            "(-6, -4, 1, 2, 7)\n",
            "(-12, 1, 2, 3, 6)\n",
            "(-9, -5, -4, 7, 11)\n",
            "(-7, -5, -2, 3, 11)\n",
            "(-12, -3, 1, 3, 11)\n",
            "(-6, -5, -3, 3, 11)\n",
            "(-6, -3, 1, 2, 6)\n",
            "(-9, -8, 1, 7, 9)\n",
            "(-6, -4, -2, 3, 9)\n",
            "(-12, -8, 3, 6, 11)\n",
            "(-8, -2, 1, 2, 7)\n",
            "(-6, -3, -2, 2, 9)\n",
            "(-12, -8, 2, 7, 11)\n",
            "(-7, -6, -5, 7, 11)\n",
            "(-6, -5, -2, 6, 7)\n"
          ]
        }
      ]
    },
    {
      "cell_type": "markdown",
      "source": [
        "---\n",
        "### **2. Problem Statement:**\n",
        "---\n",
        "- Find all the subsets from a set of numbers whose sum is zero.\n",
        "- **Constraint:** Subset size must be 3 to 6 only\n",
        "- Set={-12, -3, -6, 7, 2, -2, 6, 3, 9, -7, -5, -8, 1, 11, -9, -4}"
      ],
      "metadata": {
        "id": "vP9F4glcyB9K"
      }
    },
    {
      "cell_type": "code",
      "source": [
        "import random\n",
        "import time\n",
        "\n",
        "S = {-12, -3, -6, 7, 2, -2, 6, 3, 9, -7, -5, -8, 1, 11, -9, -4}\n",
        "l = 3; h = 6\n",
        "max_iter = 10**3\n",
        "ans = set() # Prevents repeating subsets\n",
        "\n",
        "st = time.time()\n",
        "for _ in range(max_iter):\n",
        "    k = random.randint(l, h)\n",
        "    subset = tuple(sorted(random.sample(sorted(S), k)))\n",
        "    if sum(subset) == 0:\n",
        "        ans.add(subset)\n",
        "et = time.time()\n",
        "\n",
        "print(\"Number of subsets identified =\", len(ans))\n",
        "print(f\"Time taken to identify = {et-st:.3f} sec\")\n",
        "print()\n",
        "for subset in ans:\n",
        "    print(subset)"
      ],
      "metadata": {
        "colab": {
          "base_uri": "https://localhost:8080/"
        },
        "outputId": "4033da02-1b32-444c-c4a1-3aa5051a530c",
        "id": "JhmSAY5P1XyL"
      },
      "execution_count": 12,
      "outputs": [
        {
          "output_type": "stream",
          "name": "stdout",
          "text": [
            "Number of subsets identified = 28\n",
            "Time taken to identify = 0.005 sec\n",
            "\n",
            "(-3, -2, 2, 3)\n",
            "(-7, -4, -3, 3, 11)\n",
            "(-12, -6, -4, 2, 9, 11)\n",
            "(-9, -4, -3, 7, 9)\n",
            "(-7, -5, -2, 3, 11)\n",
            "(-12, 1, 11)\n",
            "(-8, -6, -5, 2, 6, 11)\n",
            "(-9, -7, -5, 1, 9, 11)\n",
            "(-6, 1, 2, 3)\n",
            "(-12, -4, -2, 3, 6, 9)\n",
            "(-7, -4, 11)\n",
            "(-9, -8, 1, 7, 9)\n",
            "(-8, -4, 1, 2, 9)\n",
            "(-4, -2, 6)\n",
            "(-6, -4, -3, 2, 11)\n",
            "(-8, -7, 1, 2, 3, 9)\n",
            "(-9, -8, -2, 2, 6, 11)\n",
            "(-6, -5, -4, 6, 9)\n",
            "(-5, -4, 9)\n",
            "(-9, -6, 1, 3, 11)\n",
            "(-7, 1, 6)\n",
            "(-9, -5, -2, 2, 3, 11)\n",
            "(-4, -3, 7)\n",
            "(-9, 3, 6)\n",
            "(-5, -4, -2, 11)\n",
            "(-8, -3, 11)\n",
            "(-7, -2, 2, 7)\n",
            "(-3, 1, 2)\n"
          ]
        }
      ]
    }
  ]
}